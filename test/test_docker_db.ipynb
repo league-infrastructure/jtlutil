{
 "cells": [
  {
   "cell_type": "code",
   "execution_count": 229,
   "metadata": {},
   "outputs": [
    {
     "name": "stdout",
     "output_type": "stream",
     "text": [
      "The autoreload extension is already loaded. To reload it, use:\n",
      "  %reload_ext autoreload\n"
     ]
    }
   ],
   "source": [
    "%load_ext autoreload\n",
    "%autoreload 2\n",
    "\n",
    "import docker\n",
    "import logging\n",
    "\n",
    "from pymongo import MongoClient\n",
    "from jtlutil.docker.manager import * \n",
    "from jtlutil.docker.db import * \n",
    "from jtlutil.config import get_config\n",
    "\n",
    "config = get_config('./config/config.env')\n",
    "\n",
    "mongo_client = MongoClient(config.MONGO_PUBLIC)\n",
    "\n",
    "dcsr = DockerContainerStatsRepository(mongo_client)\n",
    "\n",
    "from pydantic import Field\n",
    "from faker import Faker\n",
    "\n",
    "fake = Faker()\n",
    "\n",
    "def create_fake_docker_container_stats() -> DockerContainerStats:\n",
    "    return DockerContainerStats(\n",
    "        container_id=fake.uuid4(),\n",
    "        state=fake.word(),\n",
    "        name=fake.word(),\n",
    "        memory_usage=fake.random_number(digits=6),\n",
    "        hostname=fake.hostname(),\n",
    "        node=fake.word(),\n",
    "        created=fake.date_time().isoformat()\n",
    "    )\n",
    "    \n",
    "dcsr.delete_all()\n"
   ]
  },
  {
   "cell_type": "code",
   "execution_count": 232,
   "metadata": {},
   "outputs": [],
   "source": [
    "# Check that Sconstruction failes for docker uris ( rather than swarm ) \n",
    "try:\n",
    "    dcsr = DockerManager.new(config.SSH_URI_DOCKER, mongo_client=mongo_client)\n",
    "except AssertionError as e:\n",
    "    pass\n",
    "else:\n",
    "    raise AssertionError(\"Expected an AssertionError when trying to create a new DockerManager with an invalid SSH URI\")\n",
    "    "
   ]
  },
  {
   "cell_type": "code",
   "execution_count": 236,
   "metadata": {},
   "outputs": [
    {
     "name": "stdout",
     "output_type": "stream",
     "text": [
      "Inserted 10 fake Docker container stats into the repository.\n",
      "N= 10\n"
     ]
    }
   ],
   "source": [
    "\n",
    "# Generate and insert 10 fake Docker container stats into the repository\n",
    "for _ in range(10):\n",
    "    fake_stat = create_fake_docker_container_stats()\n",
    "    dcsr.update(fake_stat)\n",
    "\n",
    "print(\"Inserted 10 fake Docker container stats into the repository.\")\n",
    "\n",
    "N = len(dcsr.all)\n",
    "print(\"N=\", N)\n",
    "\n",
    "for record in  dcsr.all:\n",
    "    new_fake_stat = create_fake_docker_container_stats()\n",
    "    new_fake_stat.container_id = record.container_id\n",
    "    dcsr.update(new_fake_stat)\n",
    "\n",
    "assert len(dcsr.all) == N, f\"The number of records in the repository is not {N}\"\n",
    "\n",
    "for record in  dcsr.all:\n",
    "    new_fake_stat = create_fake_docker_container_stats()\n",
    "    new_fake_stat.container_id = record.container_id\n",
    "    dcsr.update(new_fake_stat)\n",
    "\n",
    "assert len(dcsr.all) == N, f\"The number of records in the repository is not {N}\"\n",
    "\n"
   ]
  },
  {
   "cell_type": "code",
   "execution_count": 237,
   "metadata": {},
   "outputs": [],
   "source": [
    "dcsr.delete_all()\n",
    "\n",
    "csm = DockerManager.new(config.SSH_URI_SWARM, mongo_client=mongo_client)\n"
   ]
  },
  {
   "cell_type": "code",
   "execution_count": 243,
   "metadata": {},
   "outputs": [],
   "source": [
    "csm.collect_containers()\n",
    "\n",
    "assert len(dcsr.all) == N, f\"The number of records in the repository is not {N}\"\n",
    "\n",
    "dcsr.delete_all()\n",
    "\n",
    "assert len(dcsr.all) == 0 "
   ]
  },
  {
   "cell_type": "code",
   "execution_count": null,
   "metadata": {},
   "outputs": [],
   "source": []
  },
  {
   "cell_type": "code",
   "execution_count": null,
   "metadata": {},
   "outputs": [],
   "source": []
  }
 ],
 "metadata": {
  "kernelspec": {
   "display_name": ".venv",
   "language": "python",
   "name": "python3"
  },
  "language_info": {
   "codemirror_mode": {
    "name": "ipython",
    "version": 3
   },
   "file_extension": ".py",
   "mimetype": "text/x-python",
   "name": "python",
   "nbconvert_exporter": "python",
   "pygments_lexer": "ipython3",
   "version": "3.11.11"
  }
 },
 "nbformat": 4,
 "nbformat_minor": 2
}
