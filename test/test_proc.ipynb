{
 "cells": [
  {
   "cell_type": "code",
   "execution_count": 1,
   "metadata": {},
   "outputs": [],
   "source": [
    "%load_ext autoreload\n",
    "%autoreload 2\n",
    "\n",
    "import docker\n",
    "import logging\n",
    "\n",
    "from jtlutil.docker import *\n",
    "from jtlutil.config import get_config\n",
    "\n",
    "\n",
    "config = get_config('./config/swarm.env')\n",
    "\n",
    "client = docker.DockerClient(base_url=config.SSH_URI )\n"
   ]
  },
  {
   "cell_type": "code",
   "execution_count": 2,
   "metadata": {},
   "outputs": [
    {
     "name": "stdout",
     "output_type": "stream",
     "text": [
      "caddy_whoami\n",
      "     doswarm2 64f0aeb98f7a358c60d55e65beb145262ff84a55036f238d48d3d580dddf847f\n",
      "caddy_hello\n",
      "     doswarm1 54bb6e1d4ba0e7dfecf41c0b4c1ba7b4708b0d8c775c737aa971bd0c8e8dbd92\n",
      "     doswarm1 fecf61ed44f5c3d89b7568c24639393ad1e76fea0fb7239afaf421d4cc1a8b6f\n",
      "     doswarm1 82e3fd94526b46347d441af200ccbb7b23533dde6a08a1b32ebc44b656e955dc\n",
      "     doswarm1 c894b9e8a852a9d7d150b6940717da7bbdbdc677c51fa68b701e803953aefeb1\n",
      "pgadmin_pgadmin\n",
      "     doswarm1 ea94f23f2ef04ace0865b7e59d93a2cbe109215c99f556fe0e9502f4330f7762\n",
      "     doswarm1 e00c64f2f956787c98f320492de7b79108867356ff43b7aaba315b36c8b48981\n",
      "happy_mestorf\n",
      "     doswarm2 a26db515c8e3a76f1a59f900f5565e0710ff8e21420df182fdcb6416c5099be3\n",
      "gitea_server\n",
      "     doswarm2 f4a9706871931622efc8d99a1cbfc491105eb20718b3fd43099694a2bae026ff\n",
      "caddy_caddy\n",
      "     doswarm1 fed51bf24dfb99320aeb86ab4b7d0bd4989107aa5ae32e96d0b75cdaed199940\n"
     ]
    }
   ],
   "source": [
    "from functools import lru_cache\n",
    "\n",
    "@lru_cache(maxsize=None)\n",
    "def get_node_client(node_address: str) -> docker.DockerClient:\n",
    "    \"\"\"\n",
    "    Get or create a Docker client connected to a specific node via SSH.\n",
    "    Caches the client to avoid creating multiple connections to the same node.\n",
    "    \n",
    "    Args:\n",
    "        node_address: The IP address or hostname of the node\n",
    "        \n",
    "    Returns:\n",
    "        docker.DockerClient: A Docker client connected to the specified node\n",
    "    \"\"\"\n",
    "    \n",
    "    print(\"!!!!\", node_address)\n",
    "    return docker.DockerClient(base_url=f\"ssh://root@{node_address}\")\n",
    "\n",
    "# Usage example:\n",
    "def get_container_node_client(client: docker.DockerClient, task: dict) -> docker.DockerClient:\n",
    "    \"\"\"\n",
    "    Get a Docker client connected to the node where a specific container is running.\n",
    "    \n",
    "    Args:\n",
    "        client: The main Docker client\n",
    "        task: The task dictionary containing node information\n",
    "        \n",
    "    Returns:\n",
    "        docker.DockerClient: A Docker client connected to the container's node\n",
    "    \"\"\"\n",
    "    node_id = task['NodeID']\n",
    "    node_info = client.nodes.get(node_id)\n",
    "    node_address = node_info.attrs['Status']['Addr']\n",
    "    return get_node_client(node_address)\n",
    "\n",
    "for s in client.services.list():\n",
    "    print(s.name)\n",
    "    for t in s.tasks():\n",
    "        ci = t['Status']['ContainerStatus']['ContainerID']\n",
    "        node_id = t['NodeID']  # gz5ferechgc8qpd55njq40t75\n",
    "        node_info = client.nodes.get(node_id)\n",
    "        node_name = node_info.attrs['Description']['Hostname']\n",
    "        print(\" \"*4,node_name, ci)\n",
    "        "
   ]
  },
  {
   "cell_type": "code",
   "execution_count": null,
   "metadata": {},
   "outputs": [
    {
     "name": "stdout",
     "output_type": "stream",
     "text": [
      "!!!! ['caddy']\n",
      "amazing_kare amazing-kare.doswarm.jointheleague.org\n"
     ]
    }
   ],
   "source": [
    "\n"
   ]
  },
  {
   "cell_type": "markdown",
   "metadata": {},
   "source": []
  },
  {
   "cell_type": "code",
   "execution_count": 15,
   "metadata": {},
   "outputs": [
    {
     "name": "stdout",
     "output_type": "stream",
     "text": [
      "adoring_mirzakhani\n",
      "amazing_kare\n",
      "gallant_kilby\n"
     ]
    }
   ],
   "source": [
    "cm = ServicesManager(client)\n",
    "for s in cm.list(filters={\"label\": f\"jtl.test\"}, all=all):\n",
    "    print(s.name)\n",
    "    s.remove()"
   ]
  },
  {
   "cell_type": "code",
   "execution_count": null,
   "metadata": {},
   "outputs": [
    {
     "data": {
      "text/plain": [
       "'a7bab6a7dafadc0c4046650d46e769a1'"
      ]
     },
     "execution_count": 54,
     "metadata": {},
     "output_type": "execute_result"
    }
   ],
   "source": []
  },
  {
   "cell_type": "code",
   "execution_count": null,
   "metadata": {},
   "outputs": [
    {
     "ename": "AttributeError",
     "evalue": "'Service' object has no attribute 'labels'",
     "output_type": "error",
     "traceback": [
      "\u001b[0;31m---------------------------------------------------------------------------\u001b[0m",
      "\u001b[0;31mAttributeError\u001b[0m                            Traceback (most recent call last)",
      "Cell \u001b[0;32mIn[60], line 1\u001b[0m\n\u001b[0;32m----> 1\u001b[0m \u001b[43ms\u001b[49m\u001b[38;5;241;43m.\u001b[39;49m\u001b[43mlabels\u001b[49m\n",
      "File \u001b[0;32m~/proj/league-projects/code-server-mono/jtlutil/src/jtlutil/docker/proc.py:32\u001b[0m, in \u001b[0;36mProcessBase.labels\u001b[0;34m(self)\u001b[0m\n\u001b[1;32m     29\u001b[0m \u001b[38;5;129m@property\u001b[39m\n\u001b[1;32m     30\u001b[0m \u001b[38;5;28;01mdef\u001b[39;00m\u001b[38;5;250m \u001b[39m\u001b[38;5;21mlabels\u001b[39m(\u001b[38;5;28mself\u001b[39m):\n\u001b[1;32m     31\u001b[0m \u001b[38;5;250m    \u001b[39m\u001b[38;5;124;03m\"\"\"Return the labels associated with the container.\"\"\"\u001b[39;00m\n\u001b[0;32m---> 32\u001b[0m     \u001b[38;5;28;01mreturn\u001b[39;00m \u001b[38;5;28;43mself\u001b[39;49m\u001b[38;5;241;43m.\u001b[39;49m\u001b[43m_object\u001b[49m\u001b[38;5;241;43m.\u001b[39;49m\u001b[43mlabels\u001b[49m\n",
      "\u001b[0;31mAttributeError\u001b[0m: 'Service' object has no attribute 'labels'"
     ]
    }
   ],
   "source": [
    "s.labels"
   ]
  },
  {
   "cell_type": "code",
   "execution_count": null,
   "metadata": {},
   "outputs": [],
   "source": []
  }
 ],
 "metadata": {
  "kernelspec": {
   "display_name": ".venv",
   "language": "python",
   "name": "python3"
  },
  "language_info": {
   "codemirror_mode": {
    "name": "ipython",
    "version": 3
   },
   "file_extension": ".py",
   "mimetype": "text/x-python",
   "name": "python",
   "nbconvert_exporter": "python",
   "pygments_lexer": "ipython3",
   "version": "3.11.11"
  }
 },
 "nbformat": 4,
 "nbformat_minor": 2
}
