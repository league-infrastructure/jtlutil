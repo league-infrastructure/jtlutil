{
 "cells": [
  {
   "cell_type": "code",
   "execution_count": 22,
   "metadata": {},
   "outputs": [
    {
     "name": "stdout",
     "output_type": "stream",
     "text": [
      "The autoreload extension is already loaded. To reload it, use:\n",
      "  %reload_ext autoreload\n"
     ]
    }
   ],
   "source": [
    "%load_ext autoreload\n",
    "%autoreload 2\n",
    "\n",
    "import docker\n",
    "import logging\n",
    "\n",
    "from pymongo import MongoClient\n",
    "from jtlutil.docker.manager import * \n",
    "from jtlutil.docker.db import * \n",
    "from jtlutil.config import get_config\n",
    "\n",
    "config = get_config('./config/config.env')\n",
    "\n",
    "client = MongoClient(config.MONGO_PUBLIC)\n",
    "\n",
    "dcsr = DockerContainerStatsRepository(client)"
   ]
  },
  {
   "cell_type": "code",
   "execution_count": 14,
   "metadata": {},
   "outputs": [],
   "source": [
    "from pydantic import Field\n",
    "from faker import Faker\n",
    "\n",
    "fake = Faker()\n",
    "\n",
    "def create_fake_docker_container_stats() -> DockerContainerStats:\n",
    "    return DockerContainerStats(\n",
    "        id=fake.uuid4(),\n",
    "        state=fake.word(),\n",
    "        name=fake.word(),\n",
    "        memory_usage=fake.random_number(digits=6),\n",
    "        hostname=fake.hostname(),\n",
    "        node=fake.word(),\n",
    "        created=fake.date_time().isoformat()\n",
    "    )\n"
   ]
  },
  {
   "cell_type": "code",
   "execution_count": 18,
   "metadata": {},
   "outputs": [
    {
     "name": "stdout",
     "output_type": "stream",
     "text": [
      "Inserted 10 fake Docker container stats into the repository.\n",
      "N= 20\n"
     ]
    }
   ],
   "source": [
    "# Generate and insert 10 fake Docker container stats into the repository\n",
    "for _ in range(10):\n",
    "    fake_stat = create_fake_docker_container_stats()\n",
    "    dcsr.add(fake_stat)\n",
    "\n",
    "print(\"Inserted 10 fake Docker container stats into the repository.\")\n",
    "\n",
    "N = len(dcsr.all)\n",
    "print(\"N=\", N)\n",
    "\n",
    "for record in  dcsr.all:\n",
    "    new_fake_stat = create_fake_docker_container_stats()\n",
    "    new_fake_stat.id = record.id\n",
    "    dcsr.add(new_fake_stat)\n",
    "\n",
    "# Check that another call to dcsr.all only has 10 records\n",
    "assert len(dcsr.all) == N, \"The number of records in the repository is not 10\"\n",
    "\n",
    "for record in  dcsr.all:\n",
    "    new_fake_stat = create_fake_docker_container_stats()\n",
    "    new_fake_stat.name = record.name\n",
    "    dcsr.add(new_fake_stat)\n",
    "\n",
    "# Check that another call to dcsr.all only has 10 records\n",
    "assert len(dcsr.all) == N, \"The number of records in the repository is not 10\"\n",
    "\n",
    "for record in  dcsr.all:\n",
    "    new_fake_stat = create_fake_docker_container_stats()\n",
    "    new_fake_stat.name = record.name\n",
    "    new_fake_stat.id = record.id\n",
    "    dcsr.add(new_fake_stat)\n",
    "\n",
    "# Check that another call to dcsr.all only has 10 records\n",
    "assert len(dcsr.all) == N, \"The number of records in the repository is not 10\"\n",
    "\n"
   ]
  },
  {
   "cell_type": "code",
   "execution_count": 19,
   "metadata": {},
   "outputs": [
    {
     "name": "stdout",
     "output_type": "stream",
     "text": [
      "All records have been deleted from the repository.\n"
     ]
    }
   ],
   "source": [
    "# Delete all records from the repository\n",
    "for record in dcsr.all:\n",
    "    dcsr.delete(record.id)\n",
    "\n",
    "# Verify that the repository is empty\n",
    "assert len(dcsr.all) == 0, \"The repository is not empty\"\n",
    "print(\"All records have been deleted from the repository.\")"
   ]
  },
  {
   "cell_type": "code",
   "execution_count": null,
   "metadata": {},
   "outputs": [],
   "source": [
    "swarm_client = docker.DockerClient(base_url=config.SSH_URI_SWARM )\n",
    "sm = ServicesManager(swarm_client, hostname_f=hostname_f)"
   ]
  }
 ],
 "metadata": {
  "kernelspec": {
   "display_name": ".venv",
   "language": "python",
   "name": "python3"
  },
  "language_info": {
   "codemirror_mode": {
    "name": "ipython",
    "version": 3
   },
   "file_extension": ".py",
   "mimetype": "text/x-python",
   "name": "python",
   "nbconvert_exporter": "python",
   "pygments_lexer": "ipython3",
   "version": "3.11.11"
  }
 },
 "nbformat": 4,
 "nbformat_minor": 2
}
